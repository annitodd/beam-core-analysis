{
 "cells": [
  {
   "cell_type": "code",
   "execution_count": 5,
   "id": "0ed6b056",
   "metadata": {},
   "outputs": [],
   "source": [
    "import pandas as pd"
   ]
  },
  {
   "cell_type": "code",
   "execution_count": 6,
   "id": "786ae636",
   "metadata": {},
   "outputs": [],
   "source": [
    "def checkDeniedTrips(filename):\n",
    "    events = pd.read_csv(filename)\n",
    "    modeChoice = events[events['type'] == 'ModeChoice']\n",
    "    modeChoice = modeChoice.dropna(how='all', axis=1)\n",
    "    modeChoiceTransit = modeChoice[modeChoice['mode'].str.contains('transit')]\n",
    "    modeChoiceTransit['availableAlternativesLower'] = modeChoiceTransit['availableAlternatives'].str.lower()\n",
    "    transitNotEqual = modeChoiceTransit[modeChoiceTransit['currentTourMode'] != modeChoiceTransit['availableAlternativesLower']]\n",
    "    noDelayedTrips = len(transitNotEqual[transitNotEqual['availableAlternatives'].str.contains('TRANSIT') != True])\n",
    "    print(\"noDelayedTrips\" + str(noDelayedTrips))"
   ]
  },
  {
   "cell_type": "code",
   "execution_count": 7,
   "id": "c526b1b0",
   "metadata": {},
   "outputs": [],
   "source": [
    "filenames = ['baseline2.gz',\n",
    "         'fewer-docks2.gz',\n",
    "          'more-docks2.gz',         \n",
    "          '0.3pop-sfbay-fewer-bikes.gz.gz',\n",
    "            '0.3pop-sfbay-more-bikes.gz',\n",
    "          '0.3pop-sfbay-no-car-400.gz',\n",
    "          '0.3pop-sfbay-no-car-1600.csv.gz',\n",
    "           'cheaper-bikes2.gz',\n",
    "           '0.3pop-sfbay-no-shared-bikes.gz',\n",
    "             '0.3pop-sfbay-free-bikes.csv.gz',\n",
    "            '0.3pop-sfbay-baseline-twice.gz',\n",
    "          '0.3pop-sfbay-baseline-twice-no-car400.gz',\n",
    "             '0.3pop-sfbay-baseline-twice-no-car1600.gz']"
   ]
  },
  {
   "cell_type": "code",
   "execution_count": 10,
   "id": "23759c7e",
   "metadata": {},
   "outputs": [
    {
     "name": "stderr",
     "output_type": "stream",
     "text": [
      "/usr/local/Cellar/jupyterlab/3.2.5/libexec/lib/python3.9/site-packages/IPython/core/interactiveshell.py:3457: DtypeWarning: Columns (0,4,8,10,11,12,23,24,25,31,33,34,35,36,43,45,47,49,53,54) have mixed types.Specify dtype option on import or set low_memory=False.\n",
      "  exec(code_obj, self.user_global_ns, self.user_ns)\n"
     ]
    }
   ],
   "source": [
    "events = pd.read_csv('baseline2.gz')\n",
    "modeChoice = events[events['type'] == 'ModeChoice']\n",
    "modeChoice = modeChoice.dropna(how='all', axis=1)"
   ]
  },
  {
   "cell_type": "code",
   "execution_count": 11,
   "id": "a60459c1",
   "metadata": {},
   "outputs": [
    {
     "name": "stderr",
     "output_type": "stream",
     "text": [
      "/var/folders/z4/5gq1j4sn50b62w40lgwsthh80000gn/T/ipykernel_824/569211940.py:2: SettingWithCopyWarning: \n",
      "A value is trying to be set on a copy of a slice from a DataFrame.\n",
      "Try using .loc[row_indexer,col_indexer] = value instead\n",
      "\n",
      "See the caveats in the documentation: https://pandas.pydata.org/pandas-docs/stable/user_guide/indexing.html#returning-a-view-versus-a-copy\n",
      "  modeChoiceTransit['availableAlternativesLower'] = modeChoiceTransit['availableAlternatives'].str.lower()\n"
     ]
    }
   ],
   "source": [
    "modeChoiceTransit = modeChoice[modeChoice['mode'].str.contains('transit')]\n",
    "modeChoiceTransit['availableAlternativesLower'] = modeChoiceTransit['availableAlternatives'].str.lower()"
   ]
  },
  {
   "cell_type": "code",
   "execution_count": 12,
   "id": "7ea91132",
   "metadata": {},
   "outputs": [],
   "source": [
    "transitNotEqual = modeChoiceTransit[modeChoiceTransit['currentTourMode'] != modeChoiceTransit['availableAlternativesLower']]"
   ]
  },
  {
   "cell_type": "code",
   "execution_count": 14,
   "id": "e9cfb7ac",
   "metadata": {},
   "outputs": [
    {
     "data": {
      "text/html": [
       "<div>\n",
       "<style scoped>\n",
       "    .dataframe tbody tr th:only-of-type {\n",
       "        vertical-align: middle;\n",
       "    }\n",
       "\n",
       "    .dataframe tbody tr th {\n",
       "        vertical-align: top;\n",
       "    }\n",
       "\n",
       "    .dataframe thead th {\n",
       "        text-align: right;\n",
       "    }\n",
       "</style>\n",
       "<table border=\"1\" class=\"dataframe\">\n",
       "  <thead>\n",
       "    <tr style=\"text-align: right;\">\n",
       "      <th></th>\n",
       "      <th>person</th>\n",
       "      <th>time</th>\n",
       "      <th>type</th>\n",
       "      <th>mode</th>\n",
       "      <th>length</th>\n",
       "      <th>currentTourMode</th>\n",
       "      <th>availableAlternatives</th>\n",
       "      <th>location</th>\n",
       "      <th>personalVehicleAvailable</th>\n",
       "      <th>tourIndex</th>\n",
       "    </tr>\n",
       "  </thead>\n",
       "  <tbody>\n",
       "    <tr>\n",
       "      <th>157554</th>\n",
       "      <td>1132884</td>\n",
       "      <td>18000.0</td>\n",
       "      <td>ModeChoice</td>\n",
       "      <td>car</td>\n",
       "      <td>260.022000</td>\n",
       "      <td>car</td>\n",
       "      <td>CAR</td>\n",
       "      <td>100504.0</td>\n",
       "      <td>True</td>\n",
       "      <td>1.0</td>\n",
       "    </tr>\n",
       "    <tr>\n",
       "      <th>157555</th>\n",
       "      <td>4983813</td>\n",
       "      <td>18000.0</td>\n",
       "      <td>ModeChoice</td>\n",
       "      <td>walk</td>\n",
       "      <td>1360.315000</td>\n",
       "      <td>walk</td>\n",
       "      <td>WALK</td>\n",
       "      <td>63624.0</td>\n",
       "      <td>False</td>\n",
       "      <td>1.0</td>\n",
       "    </tr>\n",
       "    <tr>\n",
       "      <th>157556</th>\n",
       "      <td>3300423</td>\n",
       "      <td>18000.0</td>\n",
       "      <td>ModeChoice</td>\n",
       "      <td>car</td>\n",
       "      <td>418.300000</td>\n",
       "      <td>car</td>\n",
       "      <td>CAR</td>\n",
       "      <td>23538.0</td>\n",
       "      <td>True</td>\n",
       "      <td>1.0</td>\n",
       "    </tr>\n",
       "    <tr>\n",
       "      <th>157557</th>\n",
       "      <td>3453035</td>\n",
       "      <td>18000.0</td>\n",
       "      <td>ModeChoice</td>\n",
       "      <td>car</td>\n",
       "      <td>386.967000</td>\n",
       "      <td>car</td>\n",
       "      <td>CAR</td>\n",
       "      <td>140714.0</td>\n",
       "      <td>True</td>\n",
       "      <td>1.0</td>\n",
       "    </tr>\n",
       "    <tr>\n",
       "      <th>157558</th>\n",
       "      <td>854454</td>\n",
       "      <td>18000.0</td>\n",
       "      <td>ModeChoice</td>\n",
       "      <td>car</td>\n",
       "      <td>8255.137000</td>\n",
       "      <td>car</td>\n",
       "      <td>CAR</td>\n",
       "      <td>109690.0</td>\n",
       "      <td>True</td>\n",
       "      <td>1.0</td>\n",
       "    </tr>\n",
       "    <tr>\n",
       "      <th>...</th>\n",
       "      <td>...</td>\n",
       "      <td>...</td>\n",
       "      <td>...</td>\n",
       "      <td>...</td>\n",
       "      <td>...</td>\n",
       "      <td>...</td>\n",
       "      <td>...</td>\n",
       "      <td>...</td>\n",
       "      <td>...</td>\n",
       "      <td>...</td>\n",
       "    </tr>\n",
       "    <tr>\n",
       "      <th>86522905</th>\n",
       "      <td>2015504</td>\n",
       "      <td>107794.0</td>\n",
       "      <td>ModeChoice</td>\n",
       "      <td>walk</td>\n",
       "      <td>110112.661240</td>\n",
       "      <td>walk</td>\n",
       "      <td>WALK</td>\n",
       "      <td>53913.0</td>\n",
       "      <td>False</td>\n",
       "      <td>1.0</td>\n",
       "    </tr>\n",
       "    <tr>\n",
       "      <th>86523094</th>\n",
       "      <td>645497</td>\n",
       "      <td>107846.0</td>\n",
       "      <td>ModeChoice</td>\n",
       "      <td>walk</td>\n",
       "      <td>106027.700311</td>\n",
       "      <td>walk</td>\n",
       "      <td>WALK</td>\n",
       "      <td>53913.0</td>\n",
       "      <td>False</td>\n",
       "      <td>1.0</td>\n",
       "    </tr>\n",
       "    <tr>\n",
       "      <th>86523098</th>\n",
       "      <td>5074804</td>\n",
       "      <td>107840.0</td>\n",
       "      <td>ModeChoice</td>\n",
       "      <td>car</td>\n",
       "      <td>126026.072062</td>\n",
       "      <td>car</td>\n",
       "      <td>CAR</td>\n",
       "      <td>53913.0</td>\n",
       "      <td>True</td>\n",
       "      <td>4.0</td>\n",
       "    </tr>\n",
       "    <tr>\n",
       "      <th>86523198</th>\n",
       "      <td>4228395</td>\n",
       "      <td>108000.0</td>\n",
       "      <td>ModeChoice</td>\n",
       "      <td>car</td>\n",
       "      <td>561.142000</td>\n",
       "      <td>NaN</td>\n",
       "      <td>RIDE_HAIL:RIDE_HAIL_POOLED:CAR:BIKE:WALK</td>\n",
       "      <td>137336.0</td>\n",
       "      <td>True</td>\n",
       "      <td>2.0</td>\n",
       "    </tr>\n",
       "    <tr>\n",
       "      <th>86523307</th>\n",
       "      <td>4642855</td>\n",
       "      <td>108000.0</td>\n",
       "      <td>ModeChoice</td>\n",
       "      <td>car</td>\n",
       "      <td>18534.000000</td>\n",
       "      <td>NaN</td>\n",
       "      <td>RIDE_HAIL:RIDE_HAIL_POOLED:CAR:WALK</td>\n",
       "      <td>87576.0</td>\n",
       "      <td>True</td>\n",
       "      <td>2.0</td>\n",
       "    </tr>\n",
       "  </tbody>\n",
       "</table>\n",
       "<p>6492612 rows × 10 columns</p>\n",
       "</div>"
      ],
      "text/plain": [
       "           person      time        type  mode         length currentTourMode  \\\n",
       "157554    1132884   18000.0  ModeChoice   car     260.022000             car   \n",
       "157555    4983813   18000.0  ModeChoice  walk    1360.315000            walk   \n",
       "157556    3300423   18000.0  ModeChoice   car     418.300000             car   \n",
       "157557    3453035   18000.0  ModeChoice   car     386.967000             car   \n",
       "157558     854454   18000.0  ModeChoice   car    8255.137000             car   \n",
       "...           ...       ...         ...   ...            ...             ...   \n",
       "86522905  2015504  107794.0  ModeChoice  walk  110112.661240            walk   \n",
       "86523094   645497  107846.0  ModeChoice  walk  106027.700311            walk   \n",
       "86523098  5074804  107840.0  ModeChoice   car  126026.072062             car   \n",
       "86523198  4228395  108000.0  ModeChoice   car     561.142000             NaN   \n",
       "86523307  4642855  108000.0  ModeChoice   car   18534.000000             NaN   \n",
       "\n",
       "                             availableAlternatives  location  \\\n",
       "157554                                         CAR  100504.0   \n",
       "157555                                        WALK   63624.0   \n",
       "157556                                         CAR   23538.0   \n",
       "157557                                         CAR  140714.0   \n",
       "157558                                         CAR  109690.0   \n",
       "...                                            ...       ...   \n",
       "86522905                                      WALK   53913.0   \n",
       "86523094                                      WALK   53913.0   \n",
       "86523098                                       CAR   53913.0   \n",
       "86523198  RIDE_HAIL:RIDE_HAIL_POOLED:CAR:BIKE:WALK  137336.0   \n",
       "86523307       RIDE_HAIL:RIDE_HAIL_POOLED:CAR:WALK   87576.0   \n",
       "\n",
       "         personalVehicleAvailable  tourIndex  \n",
       "157554                       True        1.0  \n",
       "157555                      False        1.0  \n",
       "157556                       True        1.0  \n",
       "157557                       True        1.0  \n",
       "157558                       True        1.0  \n",
       "...                           ...        ...  \n",
       "86522905                    False        1.0  \n",
       "86523094                    False        1.0  \n",
       "86523098                     True        4.0  \n",
       "86523198                     True        2.0  \n",
       "86523307                     True        2.0  \n",
       "\n",
       "[6492612 rows x 10 columns]"
      ]
     },
     "execution_count": 14,
     "metadata": {},
     "output_type": "execute_result"
    }
   ],
   "source": [
    "modeChoice"
   ]
  },
  {
   "cell_type": "code",
   "execution_count": 13,
   "id": "8570feaa",
   "metadata": {},
   "outputs": [
    {
     "data": {
      "text/html": [
       "<div>\n",
       "<style scoped>\n",
       "    .dataframe tbody tr th:only-of-type {\n",
       "        vertical-align: middle;\n",
       "    }\n",
       "\n",
       "    .dataframe tbody tr th {\n",
       "        vertical-align: top;\n",
       "    }\n",
       "\n",
       "    .dataframe thead th {\n",
       "        text-align: right;\n",
       "    }\n",
       "</style>\n",
       "<table border=\"1\" class=\"dataframe\">\n",
       "  <thead>\n",
       "    <tr style=\"text-align: right;\">\n",
       "      <th></th>\n",
       "      <th>person</th>\n",
       "      <th>time</th>\n",
       "      <th>type</th>\n",
       "      <th>mode</th>\n",
       "      <th>length</th>\n",
       "      <th>currentTourMode</th>\n",
       "      <th>availableAlternatives</th>\n",
       "      <th>location</th>\n",
       "      <th>personalVehicleAvailable</th>\n",
       "      <th>tourIndex</th>\n",
       "      <th>availableAlternativesLower</th>\n",
       "    </tr>\n",
       "  </thead>\n",
       "  <tbody>\n",
       "    <tr>\n",
       "      <th>1466566</th>\n",
       "      <td>4019537.0</td>\n",
       "      <td>22200.0</td>\n",
       "      <td>ModeChoice</td>\n",
       "      <td>drive_transit</td>\n",
       "      <td>44792.452045</td>\n",
       "      <td>NaN</td>\n",
       "      <td>RIDE_HAIL:RIDE_HAIL_POOLED:CAR:DRIVE_TRANSIT:WALK</td>\n",
       "      <td>15150.0</td>\n",
       "      <td>True</td>\n",
       "      <td>1.0</td>\n",
       "      <td>ride_hail:ride_hail_pooled:car:drive_transit:walk</td>\n",
       "    </tr>\n",
       "    <tr>\n",
       "      <th>1469710</th>\n",
       "      <td>5005326.0</td>\n",
       "      <td>22200.0</td>\n",
       "      <td>ModeChoice</td>\n",
       "      <td>walk_transit</td>\n",
       "      <td>28496.001937</td>\n",
       "      <td>NaN</td>\n",
       "      <td>RIDE_HAIL:RIDE_HAIL_POOLED:CAR:WALK_TRANSIT:WALK</td>\n",
       "      <td>177535.0</td>\n",
       "      <td>True</td>\n",
       "      <td>1.0</td>\n",
       "      <td>ride_hail:ride_hail_pooled:car:walk_transit:walk</td>\n",
       "    </tr>\n",
       "    <tr>\n",
       "      <th>1628306</th>\n",
       "      <td>3274913.0</td>\n",
       "      <td>22490.0</td>\n",
       "      <td>ModeChoice</td>\n",
       "      <td>walk_transit</td>\n",
       "      <td>30908.135525</td>\n",
       "      <td>drive_transit</td>\n",
       "      <td>WALK_TRANSIT</td>\n",
       "      <td>134641.0</td>\n",
       "      <td>False</td>\n",
       "      <td>1.0</td>\n",
       "      <td>walk_transit</td>\n",
       "    </tr>\n",
       "    <tr>\n",
       "      <th>1644782</th>\n",
       "      <td>3782163.0</td>\n",
       "      <td>22517.0</td>\n",
       "      <td>ModeChoice</td>\n",
       "      <td>walk_transit</td>\n",
       "      <td>27794.737911</td>\n",
       "      <td>drive_transit</td>\n",
       "      <td>WALK_TRANSIT</td>\n",
       "      <td>70568.0</td>\n",
       "      <td>False</td>\n",
       "      <td>1.0</td>\n",
       "      <td>walk_transit</td>\n",
       "    </tr>\n",
       "    <tr>\n",
       "      <th>1644792</th>\n",
       "      <td>3873694.0</td>\n",
       "      <td>22517.0</td>\n",
       "      <td>ModeChoice</td>\n",
       "      <td>walk_transit</td>\n",
       "      <td>30802.355512</td>\n",
       "      <td>drive_transit</td>\n",
       "      <td>WALK_TRANSIT</td>\n",
       "      <td>70568.0</td>\n",
       "      <td>False</td>\n",
       "      <td>1.0</td>\n",
       "      <td>walk_transit</td>\n",
       "    </tr>\n",
       "    <tr>\n",
       "      <th>...</th>\n",
       "      <td>...</td>\n",
       "      <td>...</td>\n",
       "      <td>...</td>\n",
       "      <td>...</td>\n",
       "      <td>...</td>\n",
       "      <td>...</td>\n",
       "      <td>...</td>\n",
       "      <td>...</td>\n",
       "      <td>...</td>\n",
       "      <td>...</td>\n",
       "      <td>...</td>\n",
       "    </tr>\n",
       "    <tr>\n",
       "      <th>79729543</th>\n",
       "      <td>1498814.0</td>\n",
       "      <td>86271.0</td>\n",
       "      <td>ModeChoice</td>\n",
       "      <td>walk_transit</td>\n",
       "      <td>1298.806537</td>\n",
       "      <td>drive_transit</td>\n",
       "      <td>WALK_TRANSIT</td>\n",
       "      <td>149617.0</td>\n",
       "      <td>False</td>\n",
       "      <td>1.0</td>\n",
       "      <td>walk_transit</td>\n",
       "    </tr>\n",
       "    <tr>\n",
       "      <th>79740779</th>\n",
       "      <td>3327985.0</td>\n",
       "      <td>86389.0</td>\n",
       "      <td>ModeChoice</td>\n",
       "      <td>walk_transit</td>\n",
       "      <td>751.585543</td>\n",
       "      <td>drive_transit</td>\n",
       "      <td>WALK_TRANSIT</td>\n",
       "      <td>13780.0</td>\n",
       "      <td>False</td>\n",
       "      <td>2.0</td>\n",
       "      <td>walk_transit</td>\n",
       "    </tr>\n",
       "    <tr>\n",
       "      <th>79740786</th>\n",
       "      <td>3314636.0</td>\n",
       "      <td>86389.0</td>\n",
       "      <td>ModeChoice</td>\n",
       "      <td>walk_transit</td>\n",
       "      <td>1683.890500</td>\n",
       "      <td>drive_transit</td>\n",
       "      <td>WALK_TRANSIT</td>\n",
       "      <td>13780.0</td>\n",
       "      <td>False</td>\n",
       "      <td>2.0</td>\n",
       "      <td>walk_transit</td>\n",
       "    </tr>\n",
       "    <tr>\n",
       "      <th>79742800</th>\n",
       "      <td>6072867.0</td>\n",
       "      <td>86353.0</td>\n",
       "      <td>ModeChoice</td>\n",
       "      <td>walk_transit</td>\n",
       "      <td>800.411202</td>\n",
       "      <td>drive_transit</td>\n",
       "      <td>WALK_TRANSIT</td>\n",
       "      <td>82893.0</td>\n",
       "      <td>False</td>\n",
       "      <td>1.0</td>\n",
       "      <td>walk_transit</td>\n",
       "    </tr>\n",
       "    <tr>\n",
       "      <th>79748160</th>\n",
       "      <td>2312021.0</td>\n",
       "      <td>86340.0</td>\n",
       "      <td>ModeChoice</td>\n",
       "      <td>walk_transit</td>\n",
       "      <td>30000.554644</td>\n",
       "      <td>drive_transit</td>\n",
       "      <td>WALK_TRANSIT</td>\n",
       "      <td>24077.0</td>\n",
       "      <td>False</td>\n",
       "      <td>1.0</td>\n",
       "      <td>walk_transit</td>\n",
       "    </tr>\n",
       "  </tbody>\n",
       "</table>\n",
       "<p>30037 rows × 11 columns</p>\n",
       "</div>"
      ],
      "text/plain": [
       "             person     time        type           mode        length  \\\n",
       "1466566   4019537.0  22200.0  ModeChoice  drive_transit  44792.452045   \n",
       "1469710   5005326.0  22200.0  ModeChoice   walk_transit  28496.001937   \n",
       "1628306   3274913.0  22490.0  ModeChoice   walk_transit  30908.135525   \n",
       "1644782   3782163.0  22517.0  ModeChoice   walk_transit  27794.737911   \n",
       "1644792   3873694.0  22517.0  ModeChoice   walk_transit  30802.355512   \n",
       "...             ...      ...         ...            ...           ...   \n",
       "79729543  1498814.0  86271.0  ModeChoice   walk_transit   1298.806537   \n",
       "79740779  3327985.0  86389.0  ModeChoice   walk_transit    751.585543   \n",
       "79740786  3314636.0  86389.0  ModeChoice   walk_transit   1683.890500   \n",
       "79742800  6072867.0  86353.0  ModeChoice   walk_transit    800.411202   \n",
       "79748160  2312021.0  86340.0  ModeChoice   walk_transit  30000.554644   \n",
       "\n",
       "         currentTourMode                              availableAlternatives  \\\n",
       "1466566              NaN  RIDE_HAIL:RIDE_HAIL_POOLED:CAR:DRIVE_TRANSIT:WALK   \n",
       "1469710              NaN   RIDE_HAIL:RIDE_HAIL_POOLED:CAR:WALK_TRANSIT:WALK   \n",
       "1628306    drive_transit                                       WALK_TRANSIT   \n",
       "1644782    drive_transit                                       WALK_TRANSIT   \n",
       "1644792    drive_transit                                       WALK_TRANSIT   \n",
       "...                  ...                                                ...   \n",
       "79729543   drive_transit                                       WALK_TRANSIT   \n",
       "79740779   drive_transit                                       WALK_TRANSIT   \n",
       "79740786   drive_transit                                       WALK_TRANSIT   \n",
       "79742800   drive_transit                                       WALK_TRANSIT   \n",
       "79748160   drive_transit                                       WALK_TRANSIT   \n",
       "\n",
       "          location personalVehicleAvailable  tourIndex  \\\n",
       "1466566    15150.0                     True        1.0   \n",
       "1469710   177535.0                     True        1.0   \n",
       "1628306   134641.0                    False        1.0   \n",
       "1644782    70568.0                    False        1.0   \n",
       "1644792    70568.0                    False        1.0   \n",
       "...            ...                      ...        ...   \n",
       "79729543  149617.0                    False        1.0   \n",
       "79740779   13780.0                    False        2.0   \n",
       "79740786   13780.0                    False        2.0   \n",
       "79742800   82893.0                    False        1.0   \n",
       "79748160   24077.0                    False        1.0   \n",
       "\n",
       "                                 availableAlternativesLower  \n",
       "1466566   ride_hail:ride_hail_pooled:car:drive_transit:walk  \n",
       "1469710    ride_hail:ride_hail_pooled:car:walk_transit:walk  \n",
       "1628306                                        walk_transit  \n",
       "1644782                                        walk_transit  \n",
       "1644792                                        walk_transit  \n",
       "...                                                     ...  \n",
       "79729543                                       walk_transit  \n",
       "79740779                                       walk_transit  \n",
       "79740786                                       walk_transit  \n",
       "79742800                                       walk_transit  \n",
       "79748160                                       walk_transit  \n",
       "\n",
       "[30037 rows x 11 columns]"
      ]
     },
     "execution_count": 13,
     "metadata": {},
     "output_type": "execute_result"
    }
   ],
   "source": [
    "transitNotEqual"
   ]
  },
  {
   "cell_type": "code",
   "execution_count": null,
   "id": "da12af76",
   "metadata": {},
   "outputs": [],
   "source": [
    "\n",
    "\n",
    "\n",
    "noDelayedTrips = len(transitNotEqual[transitNotEqual['availableAlternatives'].str.contains('TRANSIT') != True])\n",
    "print(\"noDelayedTrips\" + str(noDelayedTrips))"
   ]
  },
  {
   "cell_type": "code",
   "execution_count": 8,
   "id": "bb4340ac",
   "metadata": {},
   "outputs": [
    {
     "name": "stderr",
     "output_type": "stream",
     "text": [
      "/var/folders/z4/5gq1j4sn50b62w40lgwsthh80000gn/T/ipykernel_824/3334307234.py:2: DtypeWarning: Columns (0,4,8,10,11,12,23,24,25,31,33,34,35,36,43,45,47,49,53,54) have mixed types.Specify dtype option on import or set low_memory=False.\n",
      "  checkDeniedTrips(filename)\n",
      "/var/folders/z4/5gq1j4sn50b62w40lgwsthh80000gn/T/ipykernel_824/2077594826.py:6: SettingWithCopyWarning: \n",
      "A value is trying to be set on a copy of a slice from a DataFrame.\n",
      "Try using .loc[row_indexer,col_indexer] = value instead\n",
      "\n",
      "See the caveats in the documentation: https://pandas.pydata.org/pandas-docs/stable/user_guide/indexing.html#returning-a-view-versus-a-copy\n",
      "  modeChoiceTransit['availableAlternativesLower'] = modeChoiceTransit['availableAlternatives'].str.lower()\n"
     ]
    },
    {
     "name": "stdout",
     "output_type": "stream",
     "text": [
      "noDelayedTrips0\n"
     ]
    },
    {
     "name": "stderr",
     "output_type": "stream",
     "text": [
      "/var/folders/z4/5gq1j4sn50b62w40lgwsthh80000gn/T/ipykernel_824/3334307234.py:2: DtypeWarning: Columns (0,4,5,19,21,22,23,24,25,31,33,34,35,36,43,45,47,49,53,54) have mixed types.Specify dtype option on import or set low_memory=False.\n",
      "  checkDeniedTrips(filename)\n"
     ]
    },
    {
     "name": "stdout",
     "output_type": "stream",
     "text": [
      "noDelayedTrips0\n"
     ]
    },
    {
     "name": "stderr",
     "output_type": "stream",
     "text": [
      "/var/folders/z4/5gq1j4sn50b62w40lgwsthh80000gn/T/ipykernel_824/3334307234.py:2: DtypeWarning: Columns (0,1,5,6,19,21,22,24,28,29,31,33,35,36,37,38,48,49,50,53) have mixed types.Specify dtype option on import or set low_memory=False.\n",
      "  checkDeniedTrips(filename)\n"
     ]
    },
    {
     "name": "stdout",
     "output_type": "stream",
     "text": [
      "noDelayedTrips0\n",
      "noDelayedTrips0\n"
     ]
    },
    {
     "name": "stderr",
     "output_type": "stream",
     "text": [
      "/var/folders/z4/5gq1j4sn50b62w40lgwsthh80000gn/T/ipykernel_824/3334307234.py:2: DtypeWarning: Columns (0,4,5,9,10,24,26,27,28,31,33,34,35,36,43,45,47,49,54,55) have mixed types.Specify dtype option on import or set low_memory=False.\n",
      "  checkDeniedTrips(filename)\n"
     ]
    },
    {
     "name": "stdout",
     "output_type": "stream",
     "text": [
      "noDelayedTrips0\n"
     ]
    },
    {
     "name": "stderr",
     "output_type": "stream",
     "text": [
      "/var/folders/z4/5gq1j4sn50b62w40lgwsthh80000gn/T/ipykernel_824/3334307234.py:2: DtypeWarning: Columns (0,4,18,20,21,22,23,24,28,31,33,34,35,36,43,45,47,49,53,56) have mixed types.Specify dtype option on import or set low_memory=False.\n",
      "  checkDeniedTrips(filename)\n"
     ]
    },
    {
     "name": "stdout",
     "output_type": "stream",
     "text": [
      "noDelayedTrips0\n"
     ]
    },
    {
     "name": "stderr",
     "output_type": "stream",
     "text": [
      "/var/folders/z4/5gq1j4sn50b62w40lgwsthh80000gn/T/ipykernel_824/3334307234.py:2: DtypeWarning: Columns (0,1,2,7,8,22,24,25,28,29,31,33,35,36,37,38,48,49,50,53) have mixed types.Specify dtype option on import or set low_memory=False.\n",
      "  checkDeniedTrips(filename)\n"
     ]
    },
    {
     "name": "stdout",
     "output_type": "stream",
     "text": [
      "noDelayedTrips0\n"
     ]
    },
    {
     "name": "stderr",
     "output_type": "stream",
     "text": [
      "/var/folders/z4/5gq1j4sn50b62w40lgwsthh80000gn/T/ipykernel_824/3334307234.py:2: DtypeWarning: Columns (0,10,12,13,14,15,19,20,28,31,33,34,35,36,43,45,47,49,53,54) have mixed types.Specify dtype option on import or set low_memory=False.\n",
      "  checkDeniedTrips(filename)\n"
     ]
    },
    {
     "name": "stdout",
     "output_type": "stream",
     "text": [
      "noDelayedTrips0\n"
     ]
    },
    {
     "name": "stderr",
     "output_type": "stream",
     "text": [
      "/var/folders/z4/5gq1j4sn50b62w40lgwsthh80000gn/T/ipykernel_824/3334307234.py:2: DtypeWarning: Columns (0,6,7,8,9,16,18,25,26,27,30,34,35,37,39,42,45,53,55,56) have mixed types.Specify dtype option on import or set low_memory=False.\n",
      "  checkDeniedTrips(filename)\n"
     ]
    },
    {
     "name": "stdout",
     "output_type": "stream",
     "text": [
      "noDelayedTrips0\n"
     ]
    },
    {
     "name": "stderr",
     "output_type": "stream",
     "text": [
      "/var/folders/z4/5gq1j4sn50b62w40lgwsthh80000gn/T/ipykernel_824/3334307234.py:2: DtypeWarning: Columns (0,5,7,8,9,10,11,15,28,31,33,34,35,36,43,45,47,49,53,54) have mixed types.Specify dtype option on import or set low_memory=False.\n",
      "  checkDeniedTrips(filename)\n"
     ]
    },
    {
     "name": "stdout",
     "output_type": "stream",
     "text": [
      "noDelayedTrips0\n"
     ]
    },
    {
     "name": "stderr",
     "output_type": "stream",
     "text": [
      "/var/folders/z4/5gq1j4sn50b62w40lgwsthh80000gn/T/ipykernel_824/3334307234.py:2: DtypeWarning: Columns (0,4,5,9,10,24,26,27,28,31,33,34,35,36,43,45,47,49,53,54) have mixed types.Specify dtype option on import or set low_memory=False.\n",
      "  checkDeniedTrips(filename)\n"
     ]
    },
    {
     "name": "stdout",
     "output_type": "stream",
     "text": [
      "noDelayedTrips0\n"
     ]
    },
    {
     "name": "stderr",
     "output_type": "stream",
     "text": [
      "/var/folders/z4/5gq1j4sn50b62w40lgwsthh80000gn/T/ipykernel_824/3334307234.py:2: DtypeWarning: Columns (0,4,5,19,21,22,23,24,28,31,33,34,35,36,43,45,47,49,53,54) have mixed types.Specify dtype option on import or set low_memory=False.\n",
      "  checkDeniedTrips(filename)\n"
     ]
    },
    {
     "name": "stdout",
     "output_type": "stream",
     "text": [
      "noDelayedTrips0\n"
     ]
    },
    {
     "name": "stderr",
     "output_type": "stream",
     "text": [
      "/var/folders/z4/5gq1j4sn50b62w40lgwsthh80000gn/T/ipykernel_824/3334307234.py:2: DtypeWarning: Columns (0,1,5,19,21,22,23,25,28,29,31,33,35,36,37,38,48,49,50,53) have mixed types.Specify dtype option on import or set low_memory=False.\n",
      "  checkDeniedTrips(filename)\n"
     ]
    },
    {
     "name": "stdout",
     "output_type": "stream",
     "text": [
      "noDelayedTrips0\n"
     ]
    }
   ],
   "source": [
    "for filename in filenames:\n",
    "    checkDeniedTrips(filename)"
   ]
  },
  {
   "cell_type": "code",
   "execution_count": null,
   "id": "88de64e4",
   "metadata": {},
   "outputs": [],
   "source": []
  }
 ],
 "metadata": {
  "kernelspec": {
   "display_name": "Python 3 (ipykernel)",
   "language": "python",
   "name": "python3"
  },
  "language_info": {
   "codemirror_mode": {
    "name": "ipython",
    "version": 3
   },
   "file_extension": ".py",
   "mimetype": "text/x-python",
   "name": "python",
   "nbconvert_exporter": "python",
   "pygments_lexer": "ipython3",
   "version": "3.9.9"
  }
 },
 "nbformat": 4,
 "nbformat_minor": 5
}
